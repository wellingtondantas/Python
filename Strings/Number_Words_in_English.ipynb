{
  "nbformat": 4,
  "nbformat_minor": 0,
  "metadata": {
    "colab": {
      "name": "Number-Words-in-English.ipynb",
      "provenance": []
    },
    "kernelspec": {
      "name": "python3",
      "display_name": "Python 3"
    }
  },
  "cells": [
    {
      "cell_type": "code",
      "metadata": {
        "id": "4Sgwm5VV4s42",
        "colab_type": "code",
        "colab": {
          "base_uri": "https://localhost:8080/",
          "height": 34
        },
        "outputId": "8699f1cd-8eb6-49f9-de52-51135c37539c"
      },
      "source": [
        "#Importação da biblioteca do google colab e autorização para acesso\n",
        "from google.colab import drive\n",
        "drive.mount('/content/drive')"
      ],
      "execution_count": 1,
      "outputs": [
        {
          "output_type": "stream",
          "text": [
            "Drive already mounted at /content/drive; to attempt to forcibly remount, call drive.mount(\"/content/drive\", force_remount=True).\n"
          ],
          "name": "stdout"
        }
      ]
    },
    {
      "cell_type": "code",
      "metadata": {
        "id": "FiMAnOTQ5QpL",
        "colab_type": "code",
        "colab": {}
      },
      "source": [
        "#Abri o arquivo de dados\n",
        "with open('/content/drive/My Drive/Colab Notebooks/msg.txt', 'r') as f:\n",
        "  msg = f.read()"
      ],
      "execution_count": 2,
      "outputs": []
    },
    {
      "cell_type": "code",
      "metadata": {
        "id": "-fN3WsP55Q-k",
        "colab_type": "code",
        "colab": {
          "base_uri": "https://localhost:8080/",
          "height": 137
        },
        "outputId": "a8eb570e-7388-45e4-8747-8cd8269a244c"
      },
      "source": [
        "#Limpeza inicial: retira números, caracteres e espaços\n",
        "msg = msg.upper().replace('0', '').replace('1', '').replace('2', '').replace('3', '').replace('4', '').replace('5', '').replace('6', '').replace('7', '').replace('8', '').replace('9', '')\n",
        "msg = msg.upper().replace('  ', '')\n",
        "msg = msg.upper().replace(',', '')\n",
        "msg = msg.upper().replace(';', '')\n",
        "msg = msg.upper().replace(':', '')\n",
        "msg = msg.upper().replace('?', '')\n",
        "msg = msg.upper().replace('.', '')\n",
        "msg = msg.upper().replace('—', '').replace('–', '').replace('––', '').replace('––', '').replace('=', '')\n",
        "msg = msg.upper().replace('“', '').replace('”', '')\n",
        "msg = msg.upper().replace('(', '').replace(')', '')\n",
        "msg = msg.upper().replace('[', '').replace(']', '')\n",
        "msg = msg.upper().replace('/', '')\n",
        "msg = msg.upper().replace('#', '')\n",
        "msg = msg.upper().replace('\\n', ' ')\n",
        "msg = msg.upper().replace('<', '').replace('>', '')\n",
        "msg = msg.upper().replace('¹', '')\n",
        "msg = msg.upper().replace('%', '')\n",
        "msg"
      ],
      "execution_count": 3,
      "outputs": [
        {
          "output_type": "execute_result",
          "data": {
            "application/vnd.google.colaboratory.intrinsic+json": {
              "type": "string"
            },
            "text/plain": [
              "'INFLATION EXPLAINED IN ONE MINUTE TRANSCRIÇÃO LET’S ASSUME YOUR MONTHLY INCOME WERE TO SOMEHOW DOUBLE CONGRATULATIONS! YOU CAN NOW FOR THE MOST PART AFFORD TO BUY TWO TIMES MORE STUFF BUT WHAT IF THE MONTHLY INCOME OF EVERYONE ELSE WERE TO ALSO DOUBLE WELL IN THAT CASE YOU’D NO LONGER BE ABLE TO BUYTIMES MORE STUFF BECAUSE SINCE EVERYONE ELSE ALSO EARNSTIMES MORE THERE WOULD BETIMES MORE MONEY CHASING ROUGHLY THE SAME NUMBER OF GOODS LET’S TAKE THINGS ONE STEP FURTHER WHAT IF YOUR INCOME DOUBLES BUT THE INCOME OF EVERYONE ELSE TRIPLES IN THAT CASE YOU’D ACTUALLY BECOME POOR WHY BECAUSE MAKINGTIMES MORE MONEY IS NOT ENOUGH TO KEEP UP WITH EVERYONE ELSE WHO NOW MAKESTIMES MORE IF THERE IS AN OVERALL INCREASE IN THE PRICE OF GOODS AND SERVICES OF X THIS YEAR YOU HAVE TO EARN AT LEAST X MORE THAN LAST YEAR TO AVOID BECOMING POOR IN REAL TERMS HISTORY MAKES THE EFFECTS OF INFLATION CRYSTAL CLEAR TODAY EACH A DOLLAR BUYS YOU APPROXIMATELYTIMES LESS POTATOES THANYEARS AGO ORTIMES LESS COFFEETIMES LESS BREAD AND SO ON   THE GREAT DEPRESSION EXPLAINED IN ONE MINUTE TRANSCRIÇÃO THE GREAT DEPRESSION WAS A DRAMATIC WORLDWIDE ECONOMIC CALAMITY WHICH STARTED INAND LASTED UNTIL THE LATE S MOST PEOPLE BELIEVE IT BEGAN WITH THE US STOCK MARKET COLLAPSE OF OCTOBER  BY  US STOCKS WERE ONLY WORTH  OF WHAT THEY WERE PRIOR TO THE CRISIS ANDYEAR LATER ALMOST HALF OF ALL UNITES STATES BANKS HAD FAILED BY  ROUGHLY  FARMS HAD BEEN LOST TO BANKRUPTCY OR DISTRESSED SALES EUROPEAN COUNTRIES DEBILITATED BY THE DEBT THEY HAD ACCUMULATED DUE TO WORLD WAR  DEALT WITH THE SEVERE DEPRESSION AND A SOVEREIGN DEBT CRISIS ULTIMATELY EMERGED IN GERMANY FOR EXAMPLE UNEMPLOYMENT REACHED  AND AMONG OTHER THINGS THIS ECONOMIC DISASTER LED TO HITLER’S NAZI PARTY BECOMING THE TOP POLITICAL ACTOR AFTER THEELECTIONS WORLDWIDE TRADE WAS DEVASTATED BY THE GREAT DEPRESSION WITH COUNTRIES ENGAGING IN SO-CALLED TRADE WARS BY LIMITING IMPORTS AND BY THE SAME YEAR  GLOBAL TRADE CRASHED TO HALF OF THE PRE-CRISIS VOLUME UNFORTUNATELY TRADE WARS DEGENERATED INTO AN ACTUAL ARMED CONFLICT WHICH CAUSED OVERMILLION DEATHS  WORLD WAR  MAKE NO MISTAKE MOST WARS HAVE BEEN CAUSED BY ECONOMIC FACTORS TO A VERY LARGE DEGREE LET’S LEARN FROM THE PAST AND NOT LET THIS HAPPEN AGAIN   WHY DO INDIA AND CHINA HAVE SO MANY PEOPLE TRANSCRIÇÃO HI THIS IS KATE FROM MINUTEEARTH INDIA AND CHINA TOGETHER ARE HOME TO OVER  BILLION PEOPLE THAT’S AS MANY HUMANS AS IN THE NEXTMOST POPULOUS COUNTRIES COMBINED OR IN THE WHOLE OTHERCOUNTRIES IN THE WORLD OVER THE LASTYEARS INDIA AND CHINA EACH ADDED MORE THAN A BILLION PEOPLE TO THEIR POPULATIONS  WAY MORE THAN ANY OTHER COUNTRY BUT THEY HAVE ACTUALLY BEEN GROWING AT ABOUT THE SAME RATE AS THE REST OF THE WORLD THEY HAVE A LOT MORE PEOPLE TODAY BECAUSE THEY HAD A LOT MORE PEOPLE A FEW HUNDRED YEARS AGO WHEN THE WORLD BEGAN A PERIOD OF MODERN AND RAPID POPULATION GROWTH IT’S LIKE COMPARING A BIG BANK ACCOUNT AND A SMALL ONE IF THEY BOTH GROW AT ABOUT THE SAME RATE OVER MANY YEARS THE BIG ONE GAINS A LOT MORE MONEY SIMPLY BECAUSE IT STARTED WITH MORE SO THE BILLION DOLLAR OR BILLION PERSON QUESTION IS WHY DID INDIA AND CHINA HAVE SO MANY PEOPLE WHEN THEY STARTED THEIR RAPID GROWTH WE CAN’T KNOW FOR SURE SINCE SO MANY VARIABLES FACTOR INTO LONG-TERM POPULATION DYNAMICS BUT THE TWO MOST PLAUSIBLE EXPLANATIONS ARE FOOD AND AREA HAVING LOTS OF FERTILE LAND AND GOOD ACCESS TO FRESH WATER MAKES IT POSSIBLE TO GROW LOTS OF FOOD WHICH IN TURN MAKES IT POSSIBLE TO NOURISH A LOT OF PEOPLE EVEN TODAY THEMOST POPULATED COUNTRIES IN THE WORLD ALL HAVE A RELATIVELY LARGE AMOUNT OF FARMLAND AND ASIA  AND IN PARTICULAR SOUTH AND EAST ASIA  HAS TONS OF FARMLAND LOTS OF RIVER VALLEYS AND THE ABILITY TO GROW FOOD YEAR ROUND PLUS DOMESTICATION OF PLANTS AND ANIMALS ESSENTIALLY STARTED IN ASIA GIVING POPULATIONS AN EARLY LEGOR WINGUP AS SUCH ASIA’S BEEN THE MOST DENSELY POPULATED REGION OF THE WORLD FOR A REALLY LONG TIME AREA MATTERS TOO COUNTRIES LIKE PAKISTAN AND BANGLADESH MAY BE FILLED WITH FARMS AND DENSELY POPULATED BUT BECAUSE THEY’RE SMALLER IN AREA THAN INDIA AND CHINA THEY SIMPLY CANNOT CONTAIN AS MANY PEOPLE OF COURSE A FEW OTHER THINGS HAPPENED IN INDIA AND CHINA IN THE LAST FEW THOUSAND YEARS SOME OF THEM HELPED THE POPULATIONS GROW AND SOME OF THEM SHRANK THE POPULATIONS BUT THROUGH IT ALL THE LARGE AND FERTILE LANDS OF INDIA AND CHINA WERE ABLE TO SUSTAIN LOTS OF PEOPLE SUCH THAT WHEN THE ERA OF MODERN POPULATION GROWTH CAME AROUND THEY HAD A HEAD START OR RATHER A HUNDRED MILLION HEAD START THIS VIDEO WAS SPONSORED BY THE UNIVERSITY OF MINNESOTA WHERE STUDENTS FACULTY AND STAFF ACROSS ALL FIELDS OF STUDY ARE WORKING TO SOLVE THE GRAND CHALLENGES FACING SOCIETY THE MINNESOTA POPULATION CENTER IS HELPING DEMOGRAPHIC RESEARCHERS EXPLORE PAST AND CURRENT TRENDS IN WORLD POPULATION THE GLOBAL LANDSCAPES INITIATIVE IS WORKING TO FIGURE OUT HOW TO KEEP FEEDING THE WORLD’S GROWING POPULATION WITHOUT HARMING THE PLANET AND THE IPUMS TERRA PROJECT INTEGRATES GLOBAL POPULATION DATA WITH DATA ON THE ENVIRONMENT TO BETTER UNDERSTAND HOW HUMANS TRANSFORM ECOSYSTEMS AND HOW ECOSYSTEMS TRANSFORM HUMANS THANKS UNIVERSITY OF MINNESOTA '"
            ]
          },
          "metadata": {
            "tags": []
          },
          "execution_count": 3
        }
      ]
    },
    {
      "cell_type": "code",
      "metadata": {
        "id": "sCUHKp_r7pcO",
        "colab_type": "code",
        "colab": {}
      },
      "source": [
        "#biblioteca para trabalhar com matrizes\n",
        "import numpy as np"
      ],
      "execution_count": 4,
      "outputs": []
    },
    {
      "cell_type": "code",
      "metadata": {
        "id": "OOiagpjT5RSs",
        "colab_type": "code",
        "colab": {
          "base_uri": "https://localhost:8080/",
          "height": 1000
        },
        "outputId": "7429f084-b3c0-4d3b-dca5-280bffee22a7"
      },
      "source": [
        "#Palavras unicas\n",
        "x = np.unique(msg.split())\n",
        "x"
      ],
      "execution_count": 5,
      "outputs": [
        {
          "output_type": "execute_result",
          "data": {
            "text/plain": [
              "array(['A', 'ABILITY', 'ABLE', 'ABOUT', 'ACCESS', 'ACCOUNT',\n",
              "       'ACCUMULATED', 'ACROSS', 'ACTOR', 'ACTUAL', 'ACTUALLY', 'ADDED',\n",
              "       'AFFORD', 'AFTER', 'AGAIN', 'AGO', 'ALL', 'ALMOST', 'ALSO',\n",
              "       'AMONG', 'AMOUNT', 'AN', 'AND', 'ANDYEAR', 'ANIMALS', 'ANY',\n",
              "       'APPROXIMATELYTIMES', 'ARE', 'AREA', 'ARMED', 'AROUND', 'AS',\n",
              "       'ASIA', 'ASIA’S', 'ASSUME', 'AT', 'AVOID', 'BANGLADESH', 'BANK',\n",
              "       'BANKRUPTCY', 'BANKS', 'BE', 'BECAUSE', 'BECOME', 'BECOMING',\n",
              "       'BEEN', 'BEGAN', 'BELIEVE', 'BETIMES', 'BETTER', 'BIG', 'BILLION',\n",
              "       'BOTH', 'BREAD', 'BUT', 'BUY', 'BUYS', 'BUYTIMES', 'BY',\n",
              "       'CALAMITY', 'CAME', 'CAN', 'CANNOT', 'CAN’T', 'CASE', 'CAUSED',\n",
              "       'CENTER', 'CHALLENGES', 'CHASING', 'CHINA', 'CLEAR', 'COFFEETIMES',\n",
              "       'COLLAPSE', 'COMBINED', 'COMPARING', 'CONFLICT',\n",
              "       'CONGRATULATIONS!', 'CONTAIN', 'COUNTRIES', 'COUNTRY', 'COURSE',\n",
              "       'CRASHED', 'CRISIS', 'CRYSTAL', 'CURRENT', 'DATA', 'DEALT',\n",
              "       'DEATHS', 'DEBILITATED', 'DEBT', 'DEGENERATED', 'DEGREE',\n",
              "       'DEMOGRAPHIC', 'DENSELY', 'DEPRESSION', 'DEVASTATED', 'DID',\n",
              "       'DISASTER', 'DISTRESSED', 'DO', 'DOLLAR', 'DOMESTICATION',\n",
              "       'DOUBLE', 'DOUBLES', 'DRAMATIC', 'DUE', 'DYNAMICS', 'EACH',\n",
              "       'EARLY', 'EARN', 'EARNSTIMES', 'EAST', 'ECONOMIC', 'ECOSYSTEMS',\n",
              "       'EFFECTS', 'ELSE', 'EMERGED', 'ENGAGING', 'ENOUGH', 'ENVIRONMENT',\n",
              "       'ERA', 'ESSENTIALLY', 'EUROPEAN', 'EVEN', 'EVERYONE', 'EXAMPLE',\n",
              "       'EXPLAINED', 'EXPLANATIONS', 'EXPLORE', 'FACING', 'FACTOR',\n",
              "       'FACTORS', 'FACULTY', 'FAILED', 'FARMLAND', 'FARMS', 'FEEDING',\n",
              "       'FERTILE', 'FEW', 'FIELDS', 'FIGURE', 'FILLED', 'FOOD', 'FOR',\n",
              "       'FRESH', 'FROM', 'FURTHER', 'GAINS', 'GERMANY', 'GIVING', 'GLOBAL',\n",
              "       'GOOD', 'GOODS', 'GRAND', 'GREAT', 'GROW', 'GROWING', 'GROWTH',\n",
              "       'HAD', 'HALF', 'HAPPEN', 'HAPPENED', 'HARMING', 'HAS', 'HAVE',\n",
              "       'HAVING', 'HEAD', 'HELPED', 'HELPING', 'HI', 'HISTORY', 'HITLER’S',\n",
              "       'HOME', 'HOW', 'HUMANS', 'HUNDRED', 'IF', 'IMPORTS', 'IN', 'INAND',\n",
              "       'INCOME', 'INCREASE', 'INDIA', 'INFLATION', 'INITIATIVE',\n",
              "       'INTEGRATES', 'INTO', 'IPUMS', 'IS', 'IT', 'IT’S', 'KATE', 'KEEP',\n",
              "       'KNOW', 'LAND', 'LANDS', 'LANDSCAPES', 'LARGE', 'LAST', 'LASTED',\n",
              "       'LASTYEARS', 'LATE', 'LATER', 'LEARN', 'LEAST', 'LED', 'LEGOR',\n",
              "       'LESS', 'LET', 'LET’S', 'LIKE', 'LIMITING', 'LONG', 'LONG-TERM',\n",
              "       'LONGER', 'LOST', 'LOT', 'LOTS', 'MAKE', 'MAKES', 'MAKESTIMES',\n",
              "       'MAKINGTIMES', 'MANY', 'MARKET', 'MATTERS', 'MAY', 'MILLION',\n",
              "       'MINNESOTA', 'MINUTE', 'MINUTEEARTH', 'MISTAKE', 'MODERN', 'MONEY',\n",
              "       'MONTHLY', 'MORE', 'MOST', 'NAZI', 'NEXTMOST', 'NO', 'NOT',\n",
              "       'NOURISH', 'NOW', 'NUMBER', 'OCTOBER', 'OF', 'ON', 'ONE', 'ONLY',\n",
              "       'OR', 'ORTIMES', 'OTHER', 'OTHERCOUNTRIES', 'OUT', 'OVER',\n",
              "       'OVERALL', 'OVERMILLION', 'PAKISTAN', 'PART', 'PARTICULAR',\n",
              "       'PARTY', 'PAST', 'PEOPLE', 'PERIOD', 'PERSON', 'PLANET', 'PLANTS',\n",
              "       'PLAUSIBLE', 'PLUS', 'POLITICAL', 'POOR', 'POPULATED',\n",
              "       'POPULATION', 'POPULATIONS', 'POPULOUS', 'POSSIBLE', 'POTATOES',\n",
              "       'PRE-CRISIS', 'PRICE', 'PRIOR', 'PROJECT', 'QUESTION', 'RAPID',\n",
              "       'RATE', 'RATHER', 'REACHED', 'REAL', 'REALLY', 'REGION',\n",
              "       'RELATIVELY', 'RESEARCHERS', 'REST', 'RIVER', 'ROUGHLY', 'ROUND',\n",
              "       'S', 'SALES', 'SAME', 'SERVICES', 'SEVERE', 'SHRANK', 'SIMPLY',\n",
              "       'SINCE', 'SMALL', 'SMALLER', 'SO', 'SO-CALLED', 'SOCIETY', 'SOLVE',\n",
              "       'SOME', 'SOMEHOW', 'SOUTH', 'SOVEREIGN', 'SPONSORED', 'STAFF',\n",
              "       'START', 'STARTED', 'STATES', 'STEP', 'STOCK', 'STOCKS',\n",
              "       'STUDENTS', 'STUDY', 'STUFF', 'SUCH', 'SURE', 'SUSTAIN', 'TAKE',\n",
              "       'TERMS', 'TERRA', 'THAN', 'THANKS', 'THANYEARS', 'THAT', 'THAT’S',\n",
              "       'THE', 'THEELECTIONS', 'THEIR', 'THEM', 'THEMOST', 'THERE', 'THEY',\n",
              "       'THEY’RE', 'THINGS', 'THIS', 'THOUSAND', 'THROUGH', 'TIME',\n",
              "       'TIMES', 'TO', 'TODAY', 'TOGETHER', 'TONS', 'TOO', 'TOP', 'TRADE',\n",
              "       'TRANSCRIÇÃO', 'TRANSFORM', 'TRENDS', 'TRIPLES', 'TURN', 'TWO',\n",
              "       'ULTIMATELY', 'UNDERSTAND', 'UNEMPLOYMENT', 'UNFORTUNATELY',\n",
              "       'UNITES', 'UNIVERSITY', 'UNTIL', 'UP', 'US', 'VALLEYS',\n",
              "       'VARIABLES', 'VERY', 'VIDEO', 'VOLUME', 'WAR', 'WARS', 'WAS',\n",
              "       'WATER', 'WAY', 'WE', 'WELL', 'WERE', 'WHAT', 'WHEN', 'WHERE',\n",
              "       'WHICH', 'WHO', 'WHOLE', 'WHY', 'WINGUP', 'WITH', 'WITHOUT',\n",
              "       'WORKING', 'WORLD', 'WORLDWIDE', 'WORLD’S', 'WORTH', 'WOULD', 'X',\n",
              "       'YEAR', 'YEARS', 'YOU', 'YOUR', 'YOU’D'], dtype='<U18')"
            ]
          },
          "metadata": {
            "tags": []
          },
          "execution_count": 5
        }
      ]
    },
    {
      "cell_type": "code",
      "metadata": {
        "id": "AcQcApjP5RgH",
        "colab_type": "code",
        "colab": {
          "base_uri": "https://localhost:8080/",
          "height": 34
        },
        "outputId": "90fe8414-ad72-49d1-be25-e997fdf907ab"
      },
      "source": [
        "#quantidade de palavras únicas\n",
        "x.size"
      ],
      "execution_count": 6,
      "outputs": [
        {
          "output_type": "execute_result",
          "data": {
            "text/plain": [
              "405"
            ]
          },
          "metadata": {
            "tags": []
          },
          "execution_count": 6
        }
      ]
    },
    {
      "cell_type": "code",
      "metadata": {
        "id": "P6ei5hZ6-P5T",
        "colab_type": "code",
        "colab": {}
      },
      "source": [
        "#Função forma mensagem com palavras unicas\n",
        "def formMessagem(msg):\n",
        "\n",
        "  txt = ''\n",
        "  \n",
        "  for i in range(len(msg)):\n",
        "    txt = txt + ' ' + msg[i] \n",
        "\n",
        "  return txt"
      ],
      "execution_count": 7,
      "outputs": []
    },
    {
      "cell_type": "code",
      "metadata": {
        "id": "HeMoA-XM9F24",
        "colab_type": "code",
        "colab": {}
      },
      "source": [
        "#Biblioteca que retorna a quantidade\n",
        "from collections import Counter"
      ],
      "execution_count": 8,
      "outputs": []
    },
    {
      "cell_type": "code",
      "metadata": {
        "id": "iFH6hHOS-PnA",
        "colab_type": "code",
        "colab": {}
      },
      "source": [
        "#Função vai contar a ocorrencia de cada palavra\n",
        "def moda(msg, ocorrencia):\n",
        "\n",
        "    msg = msg.split()\n",
        "    ocorrencia = ocorrencia.split()\n",
        "\n",
        "    lista = []\n",
        "\n",
        "    for i in ocorrencia:\n",
        "        for j in msg:\n",
        "            if i == j:\n",
        "                lista.append(j)\n",
        "    return Counter(lista)"
      ],
      "execution_count": 9,
      "outputs": []
    },
    {
      "cell_type": "code",
      "metadata": {
        "id": "W-r4cJ55E60C",
        "colab_type": "code",
        "colab": {}
      },
      "source": [
        "#Bilioteca para trabalhar com tabelas\n",
        "import pandas as pd"
      ],
      "execution_count": 10,
      "outputs": []
    },
    {
      "cell_type": "code",
      "metadata": {
        "id": "QccIsJRWFaHw",
        "colab_type": "code",
        "colab": {
          "base_uri": "https://localhost:8080/",
          "height": 359
        },
        "outputId": "0142df78-94b0-4f89-ba4a-b60d5f3b677b"
      },
      "source": [
        "#Criar tabela com o número de palavras únicas e a sua ocorrência\n",
        "df = pd.melt(pd.DataFrame(moda(msg, formMessagem(x)), index=[1]))\n",
        "df.columns=['Palavra', 'Ocorrência']\n",
        "df.head(10)"
      ],
      "execution_count": 11,
      "outputs": [
        {
          "output_type": "execute_result",
          "data": {
            "text/html": [
              "<div>\n",
              "<style scoped>\n",
              "    .dataframe tbody tr th:only-of-type {\n",
              "        vertical-align: middle;\n",
              "    }\n",
              "\n",
              "    .dataframe tbody tr th {\n",
              "        vertical-align: top;\n",
              "    }\n",
              "\n",
              "    .dataframe thead th {\n",
              "        text-align: right;\n",
              "    }\n",
              "</style>\n",
              "<table border=\"1\" class=\"dataframe\">\n",
              "  <thead>\n",
              "    <tr style=\"text-align: right;\">\n",
              "      <th></th>\n",
              "      <th>Palavra</th>\n",
              "      <th>Ocorrência</th>\n",
              "    </tr>\n",
              "  </thead>\n",
              "  <tbody>\n",
              "    <tr>\n",
              "      <th>0</th>\n",
              "      <td>A</td>\n",
              "      <td>18</td>\n",
              "    </tr>\n",
              "    <tr>\n",
              "      <th>1</th>\n",
              "      <td>ABILITY</td>\n",
              "      <td>1</td>\n",
              "    </tr>\n",
              "    <tr>\n",
              "      <th>2</th>\n",
              "      <td>ABLE</td>\n",
              "      <td>2</td>\n",
              "    </tr>\n",
              "    <tr>\n",
              "      <th>3</th>\n",
              "      <td>ABOUT</td>\n",
              "      <td>2</td>\n",
              "    </tr>\n",
              "    <tr>\n",
              "      <th>4</th>\n",
              "      <td>ACCESS</td>\n",
              "      <td>1</td>\n",
              "    </tr>\n",
              "    <tr>\n",
              "      <th>5</th>\n",
              "      <td>ACCOUNT</td>\n",
              "      <td>1</td>\n",
              "    </tr>\n",
              "    <tr>\n",
              "      <th>6</th>\n",
              "      <td>ACCUMULATED</td>\n",
              "      <td>1</td>\n",
              "    </tr>\n",
              "    <tr>\n",
              "      <th>7</th>\n",
              "      <td>ACROSS</td>\n",
              "      <td>1</td>\n",
              "    </tr>\n",
              "    <tr>\n",
              "      <th>8</th>\n",
              "      <td>ACTOR</td>\n",
              "      <td>1</td>\n",
              "    </tr>\n",
              "    <tr>\n",
              "      <th>9</th>\n",
              "      <td>ACTUAL</td>\n",
              "      <td>1</td>\n",
              "    </tr>\n",
              "  </tbody>\n",
              "</table>\n",
              "</div>"
            ],
            "text/plain": [
              "       Palavra  Ocorrência\n",
              "0            A          18\n",
              "1      ABILITY           1\n",
              "2         ABLE           2\n",
              "3        ABOUT           2\n",
              "4       ACCESS           1\n",
              "5      ACCOUNT           1\n",
              "6  ACCUMULATED           1\n",
              "7       ACROSS           1\n",
              "8        ACTOR           1\n",
              "9       ACTUAL           1"
            ]
          },
          "metadata": {
            "tags": []
          },
          "execution_count": 11
        }
      ]
    },
    {
      "cell_type": "code",
      "metadata": {
        "id": "h18EybvBCyVe",
        "colab_type": "code",
        "colab": {
          "base_uri": "https://localhost:8080/",
          "height": 359
        },
        "outputId": "4798186d-4d6f-4d83-dd4f-9425311916cf"
      },
      "source": [
        "#Procura as 10 palavras com maior ocorrência\n",
        "df.sort_values(['Ocorrência'], ascending=False).head(10)"
      ],
      "execution_count": 12,
      "outputs": [
        {
          "output_type": "execute_result",
          "data": {
            "text/html": [
              "<div>\n",
              "<style scoped>\n",
              "    .dataframe tbody tr th:only-of-type {\n",
              "        vertical-align: middle;\n",
              "    }\n",
              "\n",
              "    .dataframe tbody tr th {\n",
              "        vertical-align: top;\n",
              "    }\n",
              "\n",
              "    .dataframe thead th {\n",
              "        text-align: right;\n",
              "    }\n",
              "</style>\n",
              "<table border=\"1\" class=\"dataframe\">\n",
              "  <thead>\n",
              "    <tr style=\"text-align: right;\">\n",
              "      <th></th>\n",
              "      <th>Palavra</th>\n",
              "      <th>Ocorrência</th>\n",
              "    </tr>\n",
              "  </thead>\n",
              "  <tbody>\n",
              "    <tr>\n",
              "      <th>334</th>\n",
              "      <td>THE</td>\n",
              "      <td>47</td>\n",
              "    </tr>\n",
              "    <tr>\n",
              "      <th>22</th>\n",
              "      <td>AND</td>\n",
              "      <td>30</td>\n",
              "    </tr>\n",
              "    <tr>\n",
              "      <th>244</th>\n",
              "      <td>OF</td>\n",
              "      <td>29</td>\n",
              "    </tr>\n",
              "    <tr>\n",
              "      <th>348</th>\n",
              "      <td>TO</td>\n",
              "      <td>24</td>\n",
              "    </tr>\n",
              "    <tr>\n",
              "      <th>178</th>\n",
              "      <td>IN</td>\n",
              "      <td>19</td>\n",
              "    </tr>\n",
              "    <tr>\n",
              "      <th>0</th>\n",
              "      <td>A</td>\n",
              "      <td>18</td>\n",
              "    </tr>\n",
              "    <tr>\n",
              "      <th>234</th>\n",
              "      <td>MORE</td>\n",
              "      <td>13</td>\n",
              "    </tr>\n",
              "    <tr>\n",
              "      <th>261</th>\n",
              "      <td>PEOPLE</td>\n",
              "      <td>10</td>\n",
              "    </tr>\n",
              "    <tr>\n",
              "      <th>340</th>\n",
              "      <td>THEY</td>\n",
              "      <td>9</td>\n",
              "    </tr>\n",
              "    <tr>\n",
              "      <th>394</th>\n",
              "      <td>WORLD</td>\n",
              "      <td>8</td>\n",
              "    </tr>\n",
              "  </tbody>\n",
              "</table>\n",
              "</div>"
            ],
            "text/plain": [
              "    Palavra  Ocorrência\n",
              "334     THE          47\n",
              "22      AND          30\n",
              "244      OF          29\n",
              "348      TO          24\n",
              "178      IN          19\n",
              "0         A          18\n",
              "234    MORE          13\n",
              "261  PEOPLE          10\n",
              "340    THEY           9\n",
              "394   WORLD           8"
            ]
          },
          "metadata": {
            "tags": []
          },
          "execution_count": 12
        }
      ]
    }
  ]
}